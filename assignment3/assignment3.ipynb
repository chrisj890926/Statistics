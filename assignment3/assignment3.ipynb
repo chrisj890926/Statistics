{
 "cells": [
  {
   "cell_type": "markdown",
   "metadata": {},
   "source": [
    "## Q1"
   ]
  },
  {
   "cell_type": "code",
   "execution_count": 1,
   "metadata": {},
   "outputs": [
    {
     "data": {
      "text/plain": [
       "{'Late Payment Rates': [0.10882352941176471, 0.07058823529411765],\n",
       " 'Relative Risk': 1.5416666666666667,\n",
       " 'Odds Ratio': 1.607810781078108,\n",
       " 'Chi-squared without correction': (6.0870256097883955, 0.013617814651122878),\n",
       " 'Chi-squared with correction': (5.627797346328028, 0.017677831043777587),\n",
       " 'Degrees of Freedom': 1}"
      ]
     },
     "execution_count": 1,
     "metadata": {},
     "output_type": "execute_result"
    }
   ],
   "source": [
    "import pandas as pd\n",
    "import numpy as np\n",
    "from scipy.stats import chi2_contingency\n",
    "\n",
    "# Sample data for Problem 1\n",
    "data = {\n",
    "    \"Group\": [\"Young Adults\", \"Old Seniors\"],\n",
    "    \"Late Payment\": [74, 48],\n",
    "    \"No Late Payment\": [606, 632]\n",
    "}\n",
    "\n",
    "# Create DataFrame\n",
    "df = pd.DataFrame(data)\n",
    "\n",
    "# Calculate late payment rates\n",
    "df['Total'] = df['Late Payment'] + df['No Late Payment']\n",
    "df['Late Payment Rate'] = df['Late Payment'] / df['Total']\n",
    "\n",
    "# Calculate relative risk\n",
    "relative_risk = df['Late Payment Rate'].iloc[0] / df['Late Payment Rate'].iloc[1]\n",
    "\n",
    "# Calculate odds\n",
    "df['Odds Late Payment'] = df['Late Payment'] / df['No Late Payment']\n",
    "\n",
    "# Calculate odds ratio\n",
    "odds_ratio = df['Odds Late Payment'].iloc[0] / df['Odds Late Payment'].iloc[1]\n",
    "\n",
    "# Prepare data for chi-squared test\n",
    "contingency_table = df[['Late Payment', 'No Late Payment']].to_numpy()\n",
    "\n",
    "# Chi-squared test without continuity correction\n",
    "chi2, p, dof, expected = chi2_contingency(contingency_table, correction=False)\n",
    "\n",
    "# Chi-squared test with continuity correction\n",
    "chi2_corrected, p_corrected, _, _ = chi2_contingency(contingency_table, correction=True)\n",
    "\n",
    "# Results\n",
    "late_payment_rates = df['Late Payment Rate'].tolist()\n",
    "results = {\n",
    "    \"Late Payment Rates\": late_payment_rates,\n",
    "    \"Relative Risk\": relative_risk,\n",
    "    \"Odds Ratio\": odds_ratio,\n",
    "    \"Chi-squared without correction\": (chi2, p),\n",
    "    \"Chi-squared with correction\": (chi2_corrected, p_corrected),\n",
    "    \"Degrees of Freedom\": dof\n",
    "}\n",
    "\n",
    "results\n"
   ]
  },
  {
   "cell_type": "markdown",
   "metadata": {},
   "source": [
    "|  Late Payment Rates      | Young Adults | Old Seniors |\n",
    "|-------------|---------------|--------------------|\n",
    "| Late Payment     | 0.1088      | 0.0706           |\n"
   ]
  },
  {
   "cell_type": "markdown",
   "metadata": {},
   "source": [
    "|  Relative Risk    | Risk Ratio |\n",
    "|-------------|---------------|\n",
    "| Late Payment     | 1.5417      |"
   ]
  },
  {
   "cell_type": "markdown",
   "metadata": {},
   "source": [
    "| Mattrix  | Odds Ratio |\n",
    "|-------------|---------------|\n",
    "| Odds Ratio     | 1.6078      |"
   ]
  },
  {
   "cell_type": "markdown",
   "metadata": {},
   "source": [
    "| Mattrix  | value |\n",
    "|-------------|---------------|\n",
    "| Chi-Squared Statistic     | 6.0870      |\n",
    "| P-value| 0.0136|\n"
   ]
  },
  {
   "cell_type": "markdown",
   "metadata": {},
   "source": [
    "| Mattrix  | value |\n",
    "|-------------|---------------|\n",
    "| Chi-Squared Statistic(With Correction)     | 5.6278      |\n",
    "| P-value| 0.0177 |"
   ]
  },
  {
   "cell_type": "markdown",
   "metadata": {},
   "source": [
    "## Q2"
   ]
  },
  {
   "cell_type": "code",
   "execution_count": 13,
   "metadata": {},
   "outputs": [
    {
     "data": {
      "text/html": [
       "<div>\n",
       "<style scoped>\n",
       "    .dataframe tbody tr th:only-of-type {\n",
       "        vertical-align: middle;\n",
       "    }\n",
       "\n",
       "    .dataframe tbody tr th {\n",
       "        vertical-align: top;\n",
       "    }\n",
       "\n",
       "    .dataframe thead th {\n",
       "        text-align: right;\n",
       "    }\n",
       "</style>\n",
       "<table border=\"1\" class=\"dataframe\">\n",
       "  <thead>\n",
       "    <tr style=\"text-align: right;\">\n",
       "      <th></th>\n",
       "      <th>Color</th>\n",
       "    </tr>\n",
       "  </thead>\n",
       "  <tbody>\n",
       "    <tr>\n",
       "      <th>0</th>\n",
       "      <td>Red</td>\n",
       "    </tr>\n",
       "    <tr>\n",
       "      <th>1</th>\n",
       "      <td>Orange</td>\n",
       "    </tr>\n",
       "    <tr>\n",
       "      <th>2</th>\n",
       "      <td>Red</td>\n",
       "    </tr>\n",
       "    <tr>\n",
       "      <th>3</th>\n",
       "      <td>Green</td>\n",
       "    </tr>\n",
       "    <tr>\n",
       "      <th>4</th>\n",
       "      <td>Green</td>\n",
       "    </tr>\n",
       "  </tbody>\n",
       "</table>\n",
       "</div>"
      ],
      "text/plain": [
       "    Color\n",
       "0     Red\n",
       "1  Orange\n",
       "2     Red\n",
       "3   Green\n",
       "4   Green"
      ]
     },
     "execution_count": 13,
     "metadata": {},
     "output_type": "execute_result"
    }
   ],
   "source": [
    "import pandas as pd\n",
    "\n",
    "# Load the data from MM5.xlsx to analyze M&M's candy color proportions\n",
    "mm_data_path = r'/Users/tangjiahong/Dropbox/HW_statistics/assignment3/MM5.xlsx'\n",
    "data = pd.read_excel(mm_data_path)\n",
    "\n",
    "\n",
    "# Display the first few rows of the data to understand its structure\n",
    "data.head()\n"
   ]
  },
  {
   "cell_type": "code",
   "execution_count": 14,
   "metadata": {},
   "outputs": [
    {
     "data": {
      "text/plain": [
       "Color\n",
       "Blue      131\n",
       "Green     117\n",
       "Orange    110\n",
       "Yellow    109\n",
       "Red        94\n",
       "Brown      89\n",
       "Name: count, dtype: int64"
      ]
     },
     "execution_count": 14,
     "metadata": {},
     "output_type": "execute_result"
    }
   ],
   "source": [
    "# Count the observed frequencies of each color\n",
    "observed_frequencies = data['Color'].value_counts()\n",
    "observed_frequencies\n"
   ]
  },
  {
   "cell_type": "code",
   "execution_count": 15,
   "metadata": {},
   "outputs": [
    {
     "data": {
      "text/plain": [
       "(12.389441930618402, 11.070497693516351)"
      ]
     },
     "execution_count": 15,
     "metadata": {},
     "output_type": "execute_result"
    }
   ],
   "source": [
    "import scipy.stats as stats\n",
    "\n",
    "# Calculate the total number of observations\n",
    "total_observations = observed_frequencies.sum()\n",
    "\n",
    "# Define the expected proportions\n",
    "expected_proportions = {\n",
    "    'Blue': 0.2,\n",
    "    'Brown': 0.1,\n",
    "    'Green': 0.18,\n",
    "    'Orange': 0.17,\n",
    "    'Red': 0.15,\n",
    "    'Yellow': 0.2\n",
    "}\n",
    "\n",
    "# Calculate the expected frequencies\n",
    "expected_frequencies = {color: proportion * total_observations for color, proportion in expected_proportions.items()}\n",
    "\n",
    "# Convert to pandas Series for easier handling\n",
    "expected_frequencies = pd.Series(expected_frequencies)\n",
    "\n",
    "# Calculate the Chi-square statistic\n",
    "chi_square_statistic = ((observed_frequencies - expected_frequencies) ** 2 / expected_frequencies).sum()\n",
    "\n",
    "# Determine the critical value for alpha = 0.05 and df = 5\n",
    "alpha = 0.05\n",
    "df = len(expected_frequencies) - 1\n",
    "critical_value = stats.chi2.ppf(1 - alpha, df)\n",
    "\n",
    "chi_square_statistic, critical_value\n"
   ]
  },
  {
   "cell_type": "markdown",
   "metadata": {},
   "source": [
    "| Mattrix  | value |\n",
    "|-------------|---------------|\n",
    "| Chi-square statistic     | 12.3894      |\n",
    "| Critical Value | 11.0705 |\n"
   ]
  },
  {
   "cell_type": "markdown",
   "metadata": {},
   "source": [
    "## Q3"
   ]
  },
  {
   "cell_type": "code",
   "execution_count": 1,
   "metadata": {},
   "outputs": [
    {
     "data": {
      "text/html": [
       "<div>\n",
       "<style scoped>\n",
       "    .dataframe tbody tr th:only-of-type {\n",
       "        vertical-align: middle;\n",
       "    }\n",
       "\n",
       "    .dataframe tbody tr th {\n",
       "        vertical-align: top;\n",
       "    }\n",
       "\n",
       "    .dataframe thead th {\n",
       "        text-align: right;\n",
       "    }\n",
       "</style>\n",
       "<table border=\"1\" class=\"dataframe\">\n",
       "  <thead>\n",
       "    <tr style=\"text-align: right;\">\n",
       "      <th></th>\n",
       "      <th>Country</th>\n",
       "      <th>Use Social Media?</th>\n",
       "    </tr>\n",
       "  </thead>\n",
       "  <tbody>\n",
       "    <tr>\n",
       "      <th>0</th>\n",
       "      <td>United Kingdom</td>\n",
       "      <td>Yes</td>\n",
       "    </tr>\n",
       "    <tr>\n",
       "      <th>1</th>\n",
       "      <td>United Kingdom</td>\n",
       "      <td>Yes</td>\n",
       "    </tr>\n",
       "    <tr>\n",
       "      <th>2</th>\n",
       "      <td>United Kingdom</td>\n",
       "      <td>Yes</td>\n",
       "    </tr>\n",
       "    <tr>\n",
       "      <th>3</th>\n",
       "      <td>United Kingdom</td>\n",
       "      <td>Yes</td>\n",
       "    </tr>\n",
       "    <tr>\n",
       "      <th>4</th>\n",
       "      <td>United Kingdom</td>\n",
       "      <td>Yes</td>\n",
       "    </tr>\n",
       "  </tbody>\n",
       "</table>\n",
       "</div>"
      ],
      "text/plain": [
       "          Country Use Social Media?\n",
       "0  United Kingdom               Yes\n",
       "1  United Kingdom               Yes\n",
       "2  United Kingdom               Yes\n",
       "3  United Kingdom               Yes\n",
       "4  United Kingdom               Yes"
      ]
     },
     "execution_count": 1,
     "metadata": {},
     "output_type": "execute_result"
    }
   ],
   "source": [
    "import pandas as pd\n",
    "\n",
    "# Load the data from the provided Excel file\n",
    "file_path = r'C:\\Users\\User\\Dropbox\\HW_statistics\\assignment3\\SocialMedia6.xlsx'\n",
    "data = pd.read_excel(file_path)\n",
    "\n",
    "# Display the first few rows of the data to understand its structure\n",
    "data.head()\n"
   ]
  },
  {
   "cell_type": "code",
   "execution_count": 2,
   "metadata": {},
   "outputs": [
    {
     "data": {
      "text/plain": [
       "Country\n",
       "China             0.619898\n",
       "Russia            0.555556\n",
       "United Kingdom    0.621188\n",
       "United States     0.638387\n",
       "Name: Yes, dtype: float64"
      ]
     },
     "execution_count": 2,
     "metadata": {},
     "output_type": "execute_result"
    }
   ],
   "source": [
    "# Calculate the sample proportions of adults using social media for each country\n",
    "proportions = data['Use Social Media?'].groupby(data['Country']).value_counts(normalize=True).unstack().fillna(0)\n",
    "\n",
    "# Extract proportions of 'Yes' responses\n",
    "sample_proportions = proportions.get('Yes', 0)\n",
    "sample_proportions\n"
   ]
  },
  {
   "cell_type": "markdown",
   "metadata": {},
   "source": [
    "| Mattrix  | value |\n",
    "|-------------|---------------|\n",
    "| China     | 0.6199      |\n",
    "| Russia | 0.5556 |\n",
    "| United Kingdom | 0.6212 |\n",
    "| United States | 0.6384 |\n"
   ]
  },
  {
   "cell_type": "code",
   "execution_count": 5,
   "metadata": {},
   "outputs": [
    {
     "data": {
      "text/plain": [
       "(9.191543265923958,\n",
       " 0.0268496914951318,\n",
       " 7.814727903251179,\n",
       " 3,\n",
       " array([[152.21090259, 239.78909741],\n",
       "        [195.6997319 , 308.3002681 ],\n",
       "        [241.90661305, 381.09338695],\n",
       "        [279.18275246, 439.81724754]]))"
      ]
     },
     "execution_count": 5,
     "metadata": {},
     "output_type": "execute_result"
    }
   ],
   "source": [
    "from scipy.stats import chi2_contingency\n",
    "\n",
    "# Construct the contingency table\n",
    "contingency_table = data['Use Social Media?'].groupby(data['Country']).value_counts().unstack().fillna(0)\n",
    "\n",
    "# Perform the chi-square test for homogeneity\n",
    "chi2_stat, p_value, dof, expected = chi2_contingency(contingency_table)\n",
    "\n",
    "# Critical value for alpha=0.05\n",
    "critical_value = chi2.ppf(0.95, dof)\n",
    "\n",
    "chi2_stat, p_value, critical_value, dof, expected\n"
   ]
  },
  {
   "cell_type": "code",
   "execution_count": 4,
   "metadata": {},
   "outputs": [
    {
     "data": {
      "text/plain": [
       "(9.191543265923958, 0.0268496914951318, 7.814727903251179, 3)"
      ]
     },
     "execution_count": 4,
     "metadata": {},
     "output_type": "execute_result"
    }
   ],
   "source": [
    "from scipy.stats import chi2  # Import necessary function for critical value calculation\n",
    "\n",
    "# Critical value for alpha=0.05\n",
    "critical_value = chi2.ppf(0.95, dof)\n",
    "\n",
    "# Display the chi-square statistic, p-value, critical value, and degrees of freedom\n",
    "chi2_stat, p_value, critical_value, dof\n"
   ]
  },
  {
   "cell_type": "markdown",
   "metadata": {},
   "source": [
    "| Mattrix  | value |\n",
    "|-------------|---------------|\n",
    "| Critical value     | 7.8147      |\n",
    "| P-value | 0.0268 |\n"
   ]
  },
  {
   "cell_type": "markdown",
   "metadata": {},
   "source": [
    "## Q4"
   ]
  },
  {
   "cell_type": "code",
   "execution_count": 7,
   "metadata": {},
   "outputs": [
    {
     "data": {
      "text/html": [
       "<div>\n",
       "<style scoped>\n",
       "    .dataframe tbody tr th:only-of-type {\n",
       "        vertical-align: middle;\n",
       "    }\n",
       "\n",
       "    .dataframe tbody tr th {\n",
       "        vertical-align: top;\n",
       "    }\n",
       "\n",
       "    .dataframe thead th {\n",
       "        text-align: right;\n",
       "    }\n",
       "</style>\n",
       "<table border=\"1\" class=\"dataframe\">\n",
       "  <thead>\n",
       "    <tr style=\"text-align: right;\">\n",
       "      <th></th>\n",
       "      <th>Country</th>\n",
       "      <th>Use Social Media?</th>\n",
       "    </tr>\n",
       "  </thead>\n",
       "  <tbody>\n",
       "    <tr>\n",
       "      <th>0</th>\n",
       "      <td>United Kingdom</td>\n",
       "      <td>Yes</td>\n",
       "    </tr>\n",
       "    <tr>\n",
       "      <th>1</th>\n",
       "      <td>United Kingdom</td>\n",
       "      <td>Yes</td>\n",
       "    </tr>\n",
       "    <tr>\n",
       "      <th>2</th>\n",
       "      <td>United Kingdom</td>\n",
       "      <td>Yes</td>\n",
       "    </tr>\n",
       "    <tr>\n",
       "      <th>3</th>\n",
       "      <td>United Kingdom</td>\n",
       "      <td>Yes</td>\n",
       "    </tr>\n",
       "    <tr>\n",
       "      <th>4</th>\n",
       "      <td>United Kingdom</td>\n",
       "      <td>Yes</td>\n",
       "    </tr>\n",
       "  </tbody>\n",
       "</table>\n",
       "</div>"
      ],
      "text/plain": [
       "          Country Use Social Media?\n",
       "0  United Kingdom               Yes\n",
       "1  United Kingdom               Yes\n",
       "2  United Kingdom               Yes\n",
       "3  United Kingdom               Yes\n",
       "4  United Kingdom               Yes"
      ]
     },
     "execution_count": 7,
     "metadata": {},
     "output_type": "execute_result"
    }
   ],
   "source": [
    "import pandas as pd\n",
    "\n",
    "# Load the data from the provided Excel file\n",
    "file_path = r'C:\\Users\\User\\Dropbox\\HW_statistics\\assignment3\\AutoQuality6.xlsx'\n",
    "auto_quality_data = pd.read_excel(file_path)\n",
    "\n",
    "# Display the first few rows of the data to understand its structure\n",
    "data.head()\n"
   ]
  },
  {
   "cell_type": "code",
   "execution_count": 8,
   "metadata": {},
   "outputs": [
    {
     "data": {
      "text/plain": [
       "(11.41768221374378,\n",
       " 0.07629399391931052,\n",
       " 6,\n",
       " array([[38.16346154, 29.68269231, 28.16826923, 29.98557692],\n",
       "        [37.55769231, 29.21153846, 27.72115385, 29.50961538],\n",
       "        [50.27884615, 39.10576923, 37.11057692, 39.50480769]]))"
      ]
     },
     "execution_count": 8,
     "metadata": {},
     "output_type": "execute_result"
    }
   ],
   "source": [
    "# Construct the contingency table\n",
    "contingency_table_auto_quality = pd.crosstab(auto_quality_data['Quality Rating'], auto_quality_data['Education'])\n",
    "\n",
    "# Perform the chi-square test of independence\n",
    "chi2_stat_auto_quality, p_value_auto_quality, dof_auto_quality, expected_auto_quality = chi2_contingency(contingency_table_auto_quality)\n",
    "\n",
    "# Display the chi-square statistic, p-value, degrees of freedom, and expected frequencies\n",
    "chi2_stat_auto_quality, p_value_auto_quality, dof_auto_quality, expected_auto_quality\n"
   ]
  },
  {
   "cell_type": "markdown",
   "metadata": {},
   "source": [
    "| Mattrix  | value |\n",
    "|-------------|---------------|\n",
    "| Degree of freedom     | 6     |\n",
    "| P-value | 0.0763 |\n"
   ]
  }
 ],
 "metadata": {
  "kernelspec": {
   "display_name": "Python 3",
   "language": "python",
   "name": "python3"
  },
  "language_info": {
   "codemirror_mode": {
    "name": "ipython",
    "version": 3
   },
   "file_extension": ".py",
   "mimetype": "text/x-python",
   "name": "python",
   "nbconvert_exporter": "python",
   "pygments_lexer": "ipython3",
   "version": "3.12.2"
  }
 },
 "nbformat": 4,
 "nbformat_minor": 2
}
