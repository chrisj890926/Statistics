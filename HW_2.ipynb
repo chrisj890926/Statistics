{
 "cells": [
  {
   "cell_type": "code",
   "execution_count": 5,
   "metadata": {},
   "outputs": [
    {
     "name": "stdout",
     "output_type": "stream",
     "text": [
      "a. P(X<=4): 0.26795384702930874\n",
      "b. P(X=8): 0.10754700795063256\n",
      "c. P(X>10): 0.03249797447965386\n",
      "d. E(X): 6.0\n"
     ]
    }
   ],
   "source": [
    "# 第一題\n",
    "from scipy.stats import binom\n",
    "\n",
    "# 根據題目敘述12%沒有註冊,學生人數=50\n",
    "p = 0.12\n",
    "n = 50\n",
    "\n",
    "# a. withdraw <=4\n",
    "prob_a = sum(binom.pmf(k, n, p) for k in range(5))\n",
    "\n",
    "# b. withdraw = 8\n",
    "prob_b = binom.pmf(8, n, p)\n",
    "\n",
    "# c. withdraw >10\n",
    "prob_c = 1 - sum(binom.pmf(k, n, p) for k in range(11))\n",
    "\n",
    "# d. expected number of withdrawals\n",
    "Expect_withdraw = n * p\n",
    "\n",
    "print(\"a. P(X<=4):\", prob_a)\n",
    "print(\"b. P(X=8):\", prob_b)\n",
    "print(\"c. P(X>10):\", prob_c)\n",
    "print(\"d. E(X):\", Expect_withdraw)\n"
   ]
  },
  {
   "cell_type": "code",
   "execution_count": 7,
   "metadata": {},
   "outputs": [
    {
     "name": "stdout",
     "output_type": "stream",
     "text": [
      "a（1）. Mean : 0.26666666666666666\n",
      "a（2）Standard deviation : 0.5163977794943222\n",
      "b. P（k = 0） 0.7659283383646487\n",
      "c. P（k = 1）: 0.20424755689723964\n",
      "d. P（k > 2）: 0.0025910971518130488\n"
     ]
    },
    {
     "name": "stderr",
     "output_type": "stream",
     "text": [
      "/var/folders/td/m175xz391hd4h1j11qwz0vyc0000gn/T/ipykernel_31653/486725941.py:16: DeprecationWarning: `np.math` is a deprecated alias for the standard library `math` module (Deprecated Numpy 1.25). Replace usages of `np.math` with `math`\n",
      "  prob_one_tornado = (np.exp(-lambda_per_day) * lambda_per_day**1) / np.math.factorial(1)\n",
      "/var/folders/td/m175xz391hd4h1j11qwz0vyc0000gn/T/ipykernel_31653/486725941.py:19: DeprecationWarning: `np.math` is a deprecated alias for the standard library `math` module (Deprecated Numpy 1.25). Replace usages of `np.math` with `math`\n",
      "  prob_more_than_two_tornadoes = 1 - sum(np.exp(-lambda_per_day) * lambda_per_day**k / np.math.factorial(k) for k in range(3))\n"
     ]
    }
   ],
   "source": [
    "# 第二題\n",
    "import numpy as np\n",
    "\n",
    "# 每年六月平均發生8次颱風, 且6月有30天\n",
    "tornadoes_per_month = 8\n",
    "days_in_june = 30\n",
    "\n",
    "# a. Mean and Standard Deviation of tornadoes per day\n",
    "lambda_per_day = tornadoes_per_month / days_in_june\n",
    "mean = lambda_per_day\n",
    "std_dev = np.sqrt(lambda_per_day)\n",
    "\n",
    "# b. Probability of no tornadoes during a day in June (k = 0)\n",
    "prob_no_tornadoes = np.exp(-lambda_per_day)\n",
    "\n",
    "# c. Probability of exactly one tornado during a day in June (k = 1)\n",
    "prob_one_tornado = (np.exp(-lambda_per_day) * lambda_per_day**1) / np.math.factorial(1)\n",
    "\n",
    "# d. Probability of more than two tornados during a day in June (k > 2)\n",
    "prob_more_than_two_tornadoes = 1 - sum(np.exp(-lambda_per_day) * lambda_per_day**k / np.math.factorial(k) for k in range(3))\n",
    "\n",
    "print(\"a（1）. Mean :\", mean)\n",
    "print(\"a（2）Standard deviation :\", std_dev)\n",
    "print(\"b. P（k = 0）\", prob_no_tornadoes)\n",
    "print(\"c. P（k = 1）:\", prob_one_tornado)\n",
    "print(\"d. P（k > 2）:\", prob_more_than_two_tornadoes)\n"
   ]
  },
  {
   "cell_type": "code",
   "execution_count": 11,
   "metadata": {},
   "outputs": [
    {
     "name": "stdout",
     "output_type": "stream",
     "text": [
      "a. Standard deviation : 26.58452250332141\n",
      "b. P(625 < X <675): 0.6529859390725896\n",
      "c. how many people (busiest) : 693.7276482603612\n"
     ]
    }
   ],
   "source": [
    "# 第三題\n",
    "from scipy.stats import norm\n",
    "\n",
    "mean = 650\n",
    "\n",
    "# a. Find standard deviation\n",
    "p_600_or_fewer = 0.03\n",
    "z_score_600_or_fewer = norm.ppf(p_600_or_fewer)\n",
    "std_dev = (600 - mean) / z_score_600_or_fewer\n",
    "\n",
    "# b. Probability between 625 and 675\n",
    "p_625 = norm.cdf(625, mean, std_dev)\n",
    "p_675 = norm.cdf(675, mean, std_dev)\n",
    "prob_between_625_675 = p_675 - p_625\n",
    "\n",
    "# c. Number of people on busiest 5% of days\n",
    "p_busiest_5_percent = 0.95\n",
    "num_people_busiest_5_percent = norm.ppf(p_busiest_5_percent, mean, std_dev)\n",
    "\n",
    "print(\"a. Standard deviation :\", std_dev)\n",
    "print(\"b. P(625 < X <675):\", prob_between_625_675)\n",
    "print(\"c. how many people (busiest) :\", num_people_busiest_5_percent)\n"
   ]
  },
  {
   "cell_type": "code",
   "execution_count": 3,
   "metadata": {},
   "outputs": [
    {
     "name": "stdout",
     "output_type": "stream",
     "text": [
      "a. Mean : 2.6\n",
      "   Standard error : 0.1460593486680443\n",
      "b. P( 2 < X_bar < 3): 0.7501336554880336\n",
      "c. 95% CI : (2.1137289370052548, 2.686271062994745)\n"
     ]
    }
   ],
   "source": [
    "# 第四題\n",
    "import scipy.stats as stats\n",
    "\n",
    "mu = 2.6\n",
    "sigma = 0.8\n",
    "n = 30\n",
    "\n",
    "# a. Parameters of the sampling distribution\n",
    "mean = mu\n",
    "std_err_mean = sigma / (n ** 0.5)\n",
    "\n",
    "# b. Probability that a sample provides a sample mean between 2.5 and 3.0 hours\n",
    "p_2_5 = stats.norm.cdf(2.5, mean, std_err_mean)\n",
    "p_3_0 = stats.norm.cdf(3.0, mean, std_err_mean)\n",
    "prob_between_2_5_3_0 = p_3_0 - p_2_5\n",
    "\n",
    "# c. 95% confidence interval of the daily TV watching time\n",
    "sample_mean = 2.4\n",
    "confidence_level = 0.95\n",
    "z_score = stats.norm.ppf((1 + confidence_level) / 2)  # Two-tailed test\n",
    "margin_of_error = z_score * std_err_mean\n",
    "lower_bound = sample_mean - margin_of_error\n",
    "upper_bound = sample_mean + margin_of_error\n",
    "\n",
    "print(\"a. Mean :\", mean)\n",
    "print(\"   Standard error :\", std_err_mean)\n",
    "print(\"b. P( 2 < X_bar < 3):\", prob_between_2_5_3_0)\n",
    "print(\"c. 95% CI : ({}, {})\".format(lower_bound, upper_bound))\n"
   ]
  },
  {
   "cell_type": "code",
   "execution_count": 6,
   "metadata": {},
   "outputs": [
    {
     "name": "stdout",
     "output_type": "stream",
     "text": [
      "a. Mean : 0.65\n",
      "   Standard error of the sample proportions: 0.06157651067303722\n",
      "b. 95% C.I : (0.5293122567872008, 0.7706877432127992)\n",
      "c. different or not :  False\n",
      "d.  95% C.I and ±3% precision (background value): 972\n",
      "e.  95% C.I and ±3% precision (no background): 1068\n"
     ]
    }
   ],
   "source": [
    "# 第五題\n",
    "import scipy.stats as stats\n",
    "import math\n",
    "\n",
    "p = 0.65\n",
    "n = 60\n",
    "\n",
    "# e. Parameters of the sampling distribution\n",
    "mean = p\n",
    "std_err = math.sqrt((p * (1 - p)) / n)\n",
    "\n",
    "# f. 95% confidence interval\n",
    "confidence_level = 0.95\n",
    "z_score = stats.norm.ppf((1 + confidence_level) / 2)  # Two-tailed test\n",
    "margin_error = z_score * std_err\n",
    "lower_bound = p - margin_error\n",
    "upper_bound = p + margin_error\n",
    "\n",
    "# g. Check if the approval rating from the survey is different from that in the authoritative report\n",
    "different = not (lower_bound <= p <= upper_bound)\n",
    "\n",
    "# h. Calculate the required sample size\n",
    "desired_precision = 0.03\n",
    "required_sample_size = math.ceil((z_score**2 * p * (1-p)) / desired_precision**2)\n",
    "\n",
    "# i. Calculate the required sample size with no background value available\n",
    "p = 0.5  # Conservative estimate\n",
    "required_sample_size_no_background = math.ceil((z_score**2 * p * (1-p)) / desired_precision**2)\n",
    "\n",
    "print(\"a. Mean :\", mean)\n",
    "print(\"   Standard error of the sample proportions:\", std_err)\n",
    "print(\"b. 95% C.I :\", (lower_bound, upper_bound))\n",
    "print(\"c. different or not : \", different)\n",
    "print(\"d.  95% C.I and ±3% precision (background value):\", required_sample_size)\n",
    "print(\"e.  95% C.I and ±3% precision (no background):\", required_sample_size_no_background)\n"
   ]
  }
 ],
 "metadata": {
  "kernelspec": {
   "display_name": "Python 3",
   "language": "python",
   "name": "python3"
  },
  "language_info": {
   "codemirror_mode": {
    "name": "ipython",
    "version": 3
   },
   "file_extension": ".py",
   "mimetype": "text/x-python",
   "name": "python",
   "nbconvert_exporter": "python",
   "pygments_lexer": "ipython3",
   "version": "3.12.2"
  }
 },
 "nbformat": 4,
 "nbformat_minor": 2
}
