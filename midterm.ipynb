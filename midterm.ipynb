{
 "cells": [
  {
   "cell_type": "markdown",
   "metadata": {},
   "source": [
    "## 匯入Excel"
   ]
  },
  {
   "cell_type": "code",
   "execution_count": 27,
   "metadata": {},
   "outputs": [
    {
     "data": {
      "text/plain": [
       "(   Spend ($)  Family size  Distance from the Park (Kilometers)  Member  \\\n",
       " 0     240.50            4                                   20       0   \n",
       " 1      85.28            2                                   77       0   \n",
       " 2     144.14            8                                  140       0   \n",
       " 3     155.72            5                                   56       1   \n",
       " 4     215.29            7                                   85       1   \n",
       " \n",
       "    Pre score  Post score  \n",
       " 0         84          76  \n",
       " 1         73          89  \n",
       " 2         96          85  \n",
       " 3         76          85  \n",
       " 4         79          81  ,\n",
       " Index(['Spend ($)', 'Family size', 'Distance from the Park (Kilometers)',\n",
       "        'Member', 'Pre score', 'Post score'],\n",
       "       dtype='object'))"
      ]
     },
     "execution_count": 27,
     "metadata": {},
     "output_type": "execute_result"
    }
   ],
   "source": [
    "import pandas as pd\n",
    "# 匯入Excel\n",
    "data = pd.read_excel(r\"/Users/tangjiahong/Dropbox/HW_statistics/ParkSpend5.xlsx\")\n",
    "data.head()\n",
    "# Display the first few rows of the dataframe to understand its structure\n",
    "data.head(), data.columns"
   ]
  },
  {
   "cell_type": "markdown",
   "metadata": {},
   "source": [
    "## Q1"
   ]
  },
  {
   "cell_type": "code",
   "execution_count": 28,
   "metadata": {},
   "outputs": [
    {
     "data": {
      "text/html": [
       "<div>\n",
       "<style scoped>\n",
       "    .dataframe tbody tr th:only-of-type {\n",
       "        vertical-align: middle;\n",
       "    }\n",
       "\n",
       "    .dataframe tbody tr th {\n",
       "        vertical-align: top;\n",
       "    }\n",
       "\n",
       "    .dataframe thead th {\n",
       "        text-align: right;\n",
       "    }\n",
       "</style>\n",
       "<table border=\"1\" class=\"dataframe\">\n",
       "  <thead>\n",
       "    <tr style=\"text-align: right;\">\n",
       "      <th></th>\n",
       "      <th>mean</th>\n",
       "      <th>std</th>\n",
       "    </tr>\n",
       "    <tr>\n",
       "      <th>Member</th>\n",
       "      <th></th>\n",
       "      <th></th>\n",
       "    </tr>\n",
       "  </thead>\n",
       "  <tbody>\n",
       "    <tr>\n",
       "      <th>0</th>\n",
       "      <td>101.255814</td>\n",
       "      <td>64.832419</td>\n",
       "    </tr>\n",
       "    <tr>\n",
       "      <th>1</th>\n",
       "      <td>92.777778</td>\n",
       "      <td>69.951007</td>\n",
       "    </tr>\n",
       "  </tbody>\n",
       "</table>\n",
       "</div>"
      ],
      "text/plain": [
       "              mean        std\n",
       "Member                       \n",
       "0       101.255814  64.832419\n",
       "1        92.777778  69.951007"
      ]
     },
     "execution_count": 28,
     "metadata": {},
     "output_type": "execute_result"
    }
   ],
   "source": [
    "# Group the data by membership status\n",
    "grouped = data.groupby('Member')['Distance from the Park (Kilometers)']\n",
    "\n",
    "# Calculate mean and standard deviation for each group\n",
    "mean_std_dev = grouped.agg(['mean', 'std'])\n",
    "mean_std_dev\n"
   ]
  },
  {
   "cell_type": "markdown",
   "metadata": {},
   "source": [
    "| Group       | Mean Distance | Standard Deviation |\n",
    "|-------------|---------------|--------------------|\n",
    "| Members     | 92.78 km      | 69.95 km           |\n",
    "| Non-Members | 101.26 km     | 64.83 km           |\n"
   ]
  },
  {
   "cell_type": "code",
   "execution_count": 29,
   "metadata": {},
   "outputs": [
    {
     "data": {
      "text/plain": [
       "(0.8590066155419196, 0.6071703983572261)"
      ]
     },
     "execution_count": 29,
     "metadata": {},
     "output_type": "execute_result"
    }
   ],
   "source": [
    "import scipy.stats as stats\n",
    "\n",
    "# Extract the distances for each group\n",
    "distance_non_members = data[data['Member'] == 0]['Distance from the Park (Kilometers)']\n",
    "distance_members = data[data['Member'] == 1]['Distance from the Park (Kilometers)']\n",
    "\n",
    "# Calculate the ratio of variances (F-test)\n",
    "f_statistic = distance_non_members.var() / distance_members.var()\n",
    "df_num = len(distance_non_members) - 1  # Degrees of freedom for numerator\n",
    "df_den = len(distance_members) - 1      # Degrees of freedom for denominator\n",
    "\n",
    "# Calculate the p-value from the F-distribution\n",
    "p_value = 1 - stats.f.cdf(f_statistic, df_num, df_den)\n",
    "p_value_two_tailed = 2 * min(p_value, 1 - p_value)\n",
    "\n",
    "f_statistic, p_value_two_tailed\n"
   ]
  },
  {
   "cell_type": "markdown",
   "metadata": {},
   "source": [
    "|   Test        | P-Value |\n",
    "|---------------|-----------|\n",
    "| Variances     | 0.6072     |\n"
   ]
  },
  {
   "cell_type": "code",
   "execution_count": 30,
   "metadata": {},
   "outputs": [
    {
     "data": {
      "text/plain": [
       "(0.6309328193308699, 0.5294685883815189)"
      ]
     },
     "execution_count": 30,
     "metadata": {},
     "output_type": "execute_result"
    }
   ],
   "source": [
    "# Perform an independent two-sample t-test assuming equal variances\n",
    "t_stat, p_value_mean_diff = stats.ttest_ind(distance_non_members, distance_members, equal_var=True)\n",
    "t_stat, p_value_mean_diff\n"
   ]
  },
  {
   "cell_type": "markdown",
   "metadata": {},
   "source": [
    "|   Test        |  P-Value |\n",
    "|---------------|---------|\n",
    "| Means |  0.5295          |\n"
   ]
  },
  {
   "cell_type": "code",
   "execution_count": 26,
   "metadata": {},
   "outputs": [
    {
     "data": {
      "text/plain": [
       "(-18.168642157865175, 35.12471450928638)"
      ]
     },
     "execution_count": 26,
     "metadata": {},
     "output_type": "execute_result"
    }
   ],
   "source": [
    "import numpy as np\n",
    "\n",
    "# Calculate the pooled standard deviation\n",
    "n_non_members = len(distance_non_members)\n",
    "n_members = len(distance_members)\n",
    "pooled_std = np.sqrt(((n_non_members - 1) * distance_non_members.var() + (n_members - 1) * distance_members.var()) / \n",
    "                     (n_non_members + n_members - 2))\n",
    "\n",
    "# Calculate the standard error of the mean difference\n",
    "standard_error = pooled_std * np.sqrt(1/n_non_members + 1/n_members)\n",
    "\n",
    "# Determine the t critical value for 95% confidence level\n",
    "t_critical = stats.t.ppf(0.975, df=n_non_members + n_members - 2)\n",
    "\n",
    "# Calculate the confidence interval\n",
    "mean_diff = distance_non_members.mean() - distance_members.mean()\n",
    "ci_lower = mean_diff - t_critical * standard_error\n",
    "ci_upper = mean_diff + t_critical * standard_error\n",
    "\n",
    "(ci_lower, ci_upper)\n"
   ]
  },
  {
   "cell_type": "markdown",
   "metadata": {},
   "source": [
    "| 95% C.I | [-18.1686 , 35.1247] |\n",
    "|---------|-----------|"
   ]
  },
  {
   "cell_type": "markdown",
   "metadata": {},
   "source": [
    "## Q2"
   ]
  },
  {
   "cell_type": "code",
   "execution_count": 31,
   "metadata": {},
   "outputs": [
    {
     "data": {
      "text/html": [
       "<div>\n",
       "<style scoped>\n",
       "    .dataframe tbody tr th:only-of-type {\n",
       "        vertical-align: middle;\n",
       "    }\n",
       "\n",
       "    .dataframe tbody tr th {\n",
       "        vertical-align: top;\n",
       "    }\n",
       "\n",
       "    .dataframe thead th {\n",
       "        text-align: right;\n",
       "    }\n",
       "</style>\n",
       "<table border=\"1\" class=\"dataframe\">\n",
       "  <thead>\n",
       "    <tr style=\"text-align: right;\">\n",
       "      <th></th>\n",
       "      <th>mean</th>\n",
       "      <th>std</th>\n",
       "    </tr>\n",
       "    <tr>\n",
       "      <th>Member</th>\n",
       "      <th></th>\n",
       "      <th></th>\n",
       "    </tr>\n",
       "  </thead>\n",
       "  <tbody>\n",
       "    <tr>\n",
       "      <th>0</th>\n",
       "      <td>163.239070</td>\n",
       "      <td>69.085892</td>\n",
       "    </tr>\n",
       "    <tr>\n",
       "      <th>1</th>\n",
       "      <td>179.432381</td>\n",
       "      <td>107.281208</td>\n",
       "    </tr>\n",
       "  </tbody>\n",
       "</table>\n",
       "</div>"
      ],
      "text/plain": [
       "              mean         std\n",
       "Member                        \n",
       "0       163.239070   69.085892\n",
       "1       179.432381  107.281208"
      ]
     },
     "execution_count": 31,
     "metadata": {},
     "output_type": "execute_result"
    }
   ],
   "source": [
    "# Group the data by membership status for spending analysis\n",
    "spend_grouped = data.groupby('Member')['Spend ($)']\n",
    "\n",
    "# Calculate mean and standard deviation for spending for each group\n",
    "mean_std_dev_spend = spend_grouped.agg(['mean', 'std'])\n",
    "mean_std_dev_spend\n"
   ]
  },
  {
   "cell_type": "markdown",
   "metadata": {},
   "source": [
    "| Group       | Mean Spending | Standard Deviation |\n",
    "|-------------|---------------|--------------------|\n",
    "| Members     | $179.4324       | $107.2812            |\n",
    "| Non-Members | $163.2391       | $69.0859             |\n"
   ]
  },
  {
   "cell_type": "code",
   "execution_count": 32,
   "metadata": {},
   "outputs": [
    {
     "data": {
      "text/plain": [
       "(0.41469751733207255, 0.003129695543314659)"
      ]
     },
     "execution_count": 32,
     "metadata": {},
     "output_type": "execute_result"
    }
   ],
   "source": [
    "# Extract the spending amounts for each group\n",
    "spend_non_members = data[data['Member'] == 0]['Spend ($)']\n",
    "spend_members = data[data['Member'] == 1]['Spend ($)']\n",
    "\n",
    "# Calculate the ratio of variances (F-test for variances)\n",
    "f_statistic_spend = spend_non_members.var() / spend_members.var()\n",
    "df_num_spend = len(spend_non_members) - 1  # Degrees of freedom for numerator\n",
    "df_den_spend = len(spend_members) - 1      # Degrees of freedom for denominator\n",
    "\n",
    "# Calculate the p-value from the F-distribution\n",
    "p_value_spend = 1 - stats.f.cdf(f_statistic_spend, df_num_spend, df_den_spend)\n",
    "p_value_spend_two_tailed = 2 * min(p_value_spend, 1 - p_value_spend)\n",
    "\n",
    "f_statistic_spend, p_value_spend_two_tailed\n"
   ]
  },
  {
   "cell_type": "markdown",
   "metadata": {},
   "source": [
    "|   Test        |  P-Value |\n",
    "|---------------|-----------|\n",
    "| Variances     | 0.0031  |\n"
   ]
  },
  {
   "cell_type": "code",
   "execution_count": 33,
   "metadata": {},
   "outputs": [
    {
     "data": {
      "text/plain": [
       "(-0.9449220275966334, 0.34689491967134556)"
      ]
     },
     "execution_count": 33,
     "metadata": {},
     "output_type": "execute_result"
    }
   ],
   "source": [
    "# Perform an independent two-sample t-test assuming unequal variances (Welch's t-test)\n",
    "t_stat_spend, p_value_mean_diff_spend = stats.ttest_ind(spend_non_members, spend_members, equal_var=False)\n",
    "t_stat_spend, p_value_mean_diff_spend\n"
   ]
  },
  {
   "cell_type": "markdown",
   "metadata": {},
   "source": [
    "|   Test        | P-Value |\n",
    "|---------------|-----------|\n",
    "| Means | 0.3469  |\n"
   ]
  },
  {
   "cell_type": "code",
   "execution_count": 34,
   "metadata": {},
   "outputs": [
    {
     "data": {
      "text/plain": [
       "(-50.178122441965414, 17.79150007208723)"
      ]
     },
     "execution_count": 34,
     "metadata": {},
     "output_type": "execute_result"
    }
   ],
   "source": [
    "# Calculate the degrees of freedom for Welch's t-test\n",
    "df_welch = ((spend_non_members.var()/n_non_members + spend_members.var()/n_members)**2 /\n",
    "           ((spend_non_members.var()**2 / (n_non_members**2 * (n_non_members-1))) +\n",
    "            (spend_members.var()**2 / (n_members**2 * (n_members-1)))))\n",
    "\n",
    "# Determine the t critical value for 95% confidence level using Welch's degrees of freedom\n",
    "t_critical_welch = stats.t.ppf(0.975, df_welch)\n",
    "\n",
    "# Calculate the standard error of the mean difference for unequal variances\n",
    "standard_error_welch = np.sqrt(spend_non_members.var()/n_non_members + spend_members.var()/n_members)\n",
    "\n",
    "# Calculate the confidence interval\n",
    "mean_diff_spend = spend_non_members.mean() - spend_members.mean()\n",
    "ci_lower_spend = mean_diff_spend - t_critical_welch * standard_error_welch\n",
    "ci_upper_spend = mean_diff_spend + t_critical_welch * standard_error_welch\n",
    "\n",
    "(ci_lower_spend, ci_upper_spend)\n"
   ]
  },
  {
   "cell_type": "markdown",
   "metadata": {},
   "source": [
    "| 95% C.I | [-50.1781 , 17.7915] |\n",
    "|---------|-----------|\n"
   ]
  },
  {
   "cell_type": "markdown",
   "metadata": {},
   "source": [
    "## Q3"
   ]
  },
  {
   "cell_type": "code",
   "execution_count": 14,
   "metadata": {},
   "outputs": [
    {
     "data": {
      "text/html": [
       "<div>\n",
       "<style scoped>\n",
       "    .dataframe tbody tr th:only-of-type {\n",
       "        vertical-align: middle;\n",
       "    }\n",
       "\n",
       "    .dataframe tbody tr th {\n",
       "        vertical-align: top;\n",
       "    }\n",
       "\n",
       "    .dataframe thead th {\n",
       "        text-align: right;\n",
       "    }\n",
       "</style>\n",
       "<table border=\"1\" class=\"dataframe\">\n",
       "  <thead>\n",
       "    <tr style=\"text-align: right;\">\n",
       "      <th></th>\n",
       "      <th>Metric</th>\n",
       "      <th>Value</th>\n",
       "    </tr>\n",
       "  </thead>\n",
       "  <tbody>\n",
       "    <tr>\n",
       "      <th>0</th>\n",
       "      <td>Number of families within 50km</td>\n",
       "      <td>37</td>\n",
       "    </tr>\n",
       "    <tr>\n",
       "      <th>1</th>\n",
       "      <td>Number of members within 50km</td>\n",
       "      <td>23</td>\n",
       "    </tr>\n",
       "    <tr>\n",
       "      <th>2</th>\n",
       "      <td>Proportion of members</td>\n",
       "      <td>62.16%</td>\n",
       "    </tr>\n",
       "    <tr>\n",
       "      <th>3</th>\n",
       "      <td>P-Value from Binomial Test</td>\n",
       "      <td>0.1929</td>\n",
       "    </tr>\n",
       "  </tbody>\n",
       "</table>\n",
       "</div>"
      ],
      "text/plain": [
       "                           Metric   Value\n",
       "0  Number of families within 50km      37\n",
       "1   Number of members within 50km      23\n",
       "2           Proportion of members  62.16%\n",
       "3      P-Value from Binomial Test  0.1929"
      ]
     },
     "execution_count": 14,
     "metadata": {},
     "output_type": "execute_result"
    }
   ],
   "source": [
    "import pandas as pd\n",
    "import scipy.stats as stats\n",
    "\n",
    "close_families = data[data['Distance from the Park (Kilometers)'] <= 50]\n",
    "\n",
    "close_families_count = close_families.shape[0]\n",
    "members_within_50km = close_families['Member'].sum()\n",
    "proportion_of_members = members_within_50km / close_families_count\n",
    "\n",
    "proportion_test = stats.binomtest(k=members_within_50km, n=close_families_count, p=0.7, alternative='less')\n",
    "\n",
    "results_q3 = pd.DataFrame({\n",
    "    \"Metric\": [\"Number of families within 50km\", \"Number of members within 50km\", \"Proportion of members\", \"P-Value from Binomial Test\"],\n",
    "    \"Value\": [close_families_count, members_within_50km, f\"{proportion_of_members:.2%}\", f\"{proportion_test.pvalue:.4f}\"]\n",
    "})\n",
    "\n",
    "results_q3\n"
   ]
  },
  {
   "cell_type": "markdown",
   "metadata": {},
   "source": [
    "| Metric                          | Value  |\n",
    "|---------------------------------|--------|\n",
    "| Number of families within 50km  | 37     |\n",
    "| Proportion of members           | 62.16% |\n"
   ]
  },
  {
   "cell_type": "markdown",
   "metadata": {},
   "source": [
    "| Metric                          | Value  |\n",
    "|---------------------------------|--------|\n",
    "| P-Value from Binomial Test      | 0.1929 |\n"
   ]
  },
  {
   "cell_type": "markdown",
   "metadata": {},
   "source": [
    "## Q4"
   ]
  },
  {
   "cell_type": "code",
   "execution_count": 15,
   "metadata": {},
   "outputs": [
    {
     "data": {
      "text/html": [
       "<div>\n",
       "<style scoped>\n",
       "    .dataframe tbody tr th:only-of-type {\n",
       "        vertical-align: middle;\n",
       "    }\n",
       "\n",
       "    .dataframe tbody tr th {\n",
       "        vertical-align: top;\n",
       "    }\n",
       "\n",
       "    .dataframe thead th {\n",
       "        text-align: right;\n",
       "    }\n",
       "</style>\n",
       "<table border=\"1\" class=\"dataframe\">\n",
       "  <thead>\n",
       "    <tr style=\"text-align: right;\">\n",
       "      <th></th>\n",
       "      <th>Metric</th>\n",
       "      <th>Value</th>\n",
       "    </tr>\n",
       "  </thead>\n",
       "  <tbody>\n",
       "    <tr>\n",
       "      <th>0</th>\n",
       "      <td>Mean Family Size</td>\n",
       "      <td>4.37</td>\n",
       "    </tr>\n",
       "    <tr>\n",
       "      <th>1</th>\n",
       "      <td>Standard Deviation</td>\n",
       "      <td>1.99</td>\n",
       "    </tr>\n",
       "    <tr>\n",
       "      <th>2</th>\n",
       "      <td>T-Statistic</td>\n",
       "      <td>2.94</td>\n",
       "    </tr>\n",
       "    <tr>\n",
       "      <th>3</th>\n",
       "      <td>P-Value</td>\n",
       "      <td>0.0041</td>\n",
       "    </tr>\n",
       "    <tr>\n",
       "      <th>4</th>\n",
       "      <td>Critical T</td>\n",
       "      <td>±1.98</td>\n",
       "    </tr>\n",
       "    <tr>\n",
       "      <th>5</th>\n",
       "      <td>95% CI of Mean Family Size</td>\n",
       "      <td>[3.99, 4.75]</td>\n",
       "    </tr>\n",
       "  </tbody>\n",
       "</table>\n",
       "</div>"
      ],
      "text/plain": [
       "                       Metric         Value\n",
       "0            Mean Family Size          4.37\n",
       "1          Standard Deviation          1.99\n",
       "2                 T-Statistic          2.94\n",
       "3                     P-Value        0.0041\n",
       "4                  Critical T         ±1.98\n",
       "5  95% CI of Mean Family Size  [3.99, 4.75]"
      ]
     },
     "execution_count": 15,
     "metadata": {},
     "output_type": "execute_result"
    }
   ],
   "source": [
    "family_size_mean = data['Family size'].mean()\n",
    "family_size_std = data['Family size'].std()\n",
    "\n",
    "t_stat, p_value = stats.ttest_1samp(data['Family size'], popmean=3.8)\n",
    "\n",
    "alpha = 0.05\n",
    "df = len(data['Family size']) - 1\n",
    "critical_t = stats.t.ppf(1 - alpha/2, df)  # two-tailed test\n",
    "\n",
    "ci_family_low = family_size_mean - 1.96 * (family_size_std / np.sqrt(len(data['Family size'])))\n",
    "ci_family_high = family_size_mean + 1.96 * (family_size_std / np.sqrt(len(data['Family size'])))\n",
    "\n",
    "results_q4 = pd.DataFrame({\n",
    "    \"Metric\": [\"Mean Family Size\", \"Standard Deviation\", \"T-Statistic\", \"P-Value\", \"Critical T\", \"95% CI of Mean Family Size\"],\n",
    "    \"Value\": [f\"{family_size_mean:.2f}\", f\"{family_size_std:.2f}\", f\"{t_stat:.2f}\", f\"{p_value:.4f}\", f\"±{critical_t:.2f}\", f\"[{ci_family_low:.2f}, {ci_family_high:.2f}]\"]\n",
    "})\n",
    "\n",
    "results_q4\n"
   ]
  },
  {
   "cell_type": "markdown",
   "metadata": {},
   "source": [
    "| Metric                   | Value   |\n",
    "|--------------------------|---------|\n",
    "| Mean Family Size         | 4.37    |\n",
    "| Standard Deviation       | 1.99    |"
   ]
  },
  {
   "cell_type": "markdown",
   "metadata": {},
   "source": [
    "| Metric                   | Value   |\n",
    "|--------------------------|---------|\n",
    "| T-Statistic              | 2.94    |\n",
    "| P-Value                  | 0.0041  |"
   ]
  },
  {
   "cell_type": "markdown",
   "metadata": {},
   "source": [
    "| Metric                   | Value   |\n",
    "|--------------------------|---------|\n",
    "| Critical T               | ±1.98   |"
   ]
  },
  {
   "cell_type": "markdown",
   "metadata": {},
   "source": [
    "| Metric                   | Value   |\n",
    "|--------------------------|---------|\n",
    "| 95% CI of Mean Family Size | [3.99, 4.75] |\n"
   ]
  },
  {
   "cell_type": "markdown",
   "metadata": {},
   "source": [
    "## Q5"
   ]
  },
  {
   "cell_type": "code",
   "execution_count": 16,
   "metadata": {},
   "outputs": [
    {
     "data": {
      "text/html": [
       "<div>\n",
       "<style scoped>\n",
       "    .dataframe tbody tr th:only-of-type {\n",
       "        vertical-align: middle;\n",
       "    }\n",
       "\n",
       "    .dataframe tbody tr th {\n",
       "        vertical-align: top;\n",
       "    }\n",
       "\n",
       "    .dataframe thead th {\n",
       "        text-align: right;\n",
       "    }\n",
       "</style>\n",
       "<table border=\"1\" class=\"dataframe\">\n",
       "  <thead>\n",
       "    <tr style=\"text-align: right;\">\n",
       "      <th></th>\n",
       "      <th>Metric</th>\n",
       "      <th>Value</th>\n",
       "    </tr>\n",
       "  </thead>\n",
       "  <tbody>\n",
       "    <tr>\n",
       "      <th>0</th>\n",
       "      <td>Mean Increase in Satisfaction</td>\n",
       "      <td>1.73</td>\n",
       "    </tr>\n",
       "    <tr>\n",
       "      <th>1</th>\n",
       "      <td>Standard Deviation</td>\n",
       "      <td>11.18</td>\n",
       "    </tr>\n",
       "    <tr>\n",
       "      <th>2</th>\n",
       "      <td>T-Statistic</td>\n",
       "      <td>1.59</td>\n",
       "    </tr>\n",
       "    <tr>\n",
       "      <th>3</th>\n",
       "      <td>P-Value</td>\n",
       "      <td>0.0575</td>\n",
       "    </tr>\n",
       "    <tr>\n",
       "      <th>4</th>\n",
       "      <td>Critical T</td>\n",
       "      <td>1.66</td>\n",
       "    </tr>\n",
       "  </tbody>\n",
       "</table>\n",
       "</div>"
      ],
      "text/plain": [
       "                          Metric   Value\n",
       "0  Mean Increase in Satisfaction    1.73\n",
       "1             Standard Deviation   11.18\n",
       "2                    T-Statistic    1.59\n",
       "3                        P-Value  0.0575\n",
       "4                     Critical T    1.66"
      ]
     },
     "execution_count": 16,
     "metadata": {},
     "output_type": "execute_result"
    }
   ],
   "source": [
    "data['Satisfaction Increase'] = data['Post score'] - data['Pre score']\n",
    "increase_mean = data['Satisfaction Increase'].mean()\n",
    "increase_std = data['Satisfaction Increase'].std()\n",
    "\n",
    "t_stat_satisfaction, p_value_satisfaction = stats.ttest_1samp(data['Satisfaction Increase'], popmean=0, alternative='greater')\n",
    "\n",
    "critical_t_satisfaction = stats.t.ppf(1 - 0.05, df=len(data['Satisfaction Increase']) - 1)\n",
    "\n",
    "results_q5 = pd.DataFrame({\n",
    "    \"Metric\": [\"Mean Increase in Satisfaction\", \"Standard Deviation\", \"T-Statistic\", \"P-Value\", \"Critical T\"],\n",
    "    \"Value\": [f\"{increase_mean:.2f}\", f\"{increase_std:.2f}\", f\"{t_stat_satisfaction:.2f}\", f\"{p_value_satisfaction:.4f}\", f\"{critical_t_satisfaction:.2f}\"]\n",
    "})\n",
    "\n",
    "results_q5\n"
   ]
  },
  {
   "cell_type": "markdown",
   "metadata": {},
   "source": [
    "| Metric                       | Value  |\n",
    "|------------------------------|--------|\n",
    "| Mean Increase in Satisfaction| 1.73   |\n",
    "| Standard Deviation           | 11.18  |"
   ]
  },
  {
   "cell_type": "markdown",
   "metadata": {},
   "source": [
    "| Metric                       | Value  |\n",
    "|------------------------------|--------|\n",
    "| P-Value                      | 0.0575 |"
   ]
  },
  {
   "cell_type": "markdown",
   "metadata": {},
   "source": [
    "| Metric                       | Value  |\n",
    "|------------------------------|--------|\n",
    "| T-Statistic                  | 1.59   |\n",
    "| Critical T                   | 1.66   |"
   ]
  }
 ],
 "metadata": {
  "kernelspec": {
   "display_name": "Python 3",
   "language": "python",
   "name": "python3"
  },
  "language_info": {
   "codemirror_mode": {
    "name": "ipython",
    "version": 3
   },
   "file_extension": ".py",
   "mimetype": "text/x-python",
   "name": "python",
   "nbconvert_exporter": "python",
   "pygments_lexer": "ipython3",
   "version": "3.12.2"
  }
 },
 "nbformat": 4,
 "nbformat_minor": 2
}
